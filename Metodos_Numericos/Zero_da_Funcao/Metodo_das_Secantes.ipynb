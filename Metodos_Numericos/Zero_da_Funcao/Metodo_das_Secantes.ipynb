{
 "cells": [
  {
   "cell_type": "markdown",
   "metadata": {},
   "source": [
    "# Método das Secantes\n",
    "\n",
    "Seja $f:\\mathbb{R} \\rightarrow \\mathbb{R}$ uma função contínua.\n",
    "\n",
    "## Algoritmo\n",
    "**Entrada:** pontos de partida $x^{(0)}$ e $x^{(1)}$, tolerância *TOL*, valor próximo de zero $\\varepsilon$ e número máximo de iterações *Nmax*.\n",
    "### Passo 1:\n",
    "Se $|f(x^{(0)})| < \\varepsilon$ (ou se $|f(x^{(1)})| < \\varepsilon $), então $x^{(0)}$ (ou $x^{(1)})$ é o zero da função $f$, e o programa é finalizado. Caso contrário, faça $k = 0$ e passe para o próximo passo.\n",
    "### Passo 2:\n",
    "Faça\n",
    "$$x^{(k+2)} = x^{(k+1)} - f(x^{(k+1)}) \\cdot \\frac{x^{(k+1)} - x^{(k)}}{f(x^{(k+1)}) - f(x^{(k)})}.$$\n",
    "### Passo 3:\n",
    "Enquanto a condição de parada não for atingida, faça $k = k + 1$ e volte para o Passo 2.\n",
    "\n",
    "### Condição de parada:\n",
    "O programa será finalizado quando:\n",
    "1. for obtido a aproximação desejada, isto é:\n",
    "    - quando $|f(x^{(k+2)})| < \\varepsilon$, então $x^{(k+2)}$ é o zero da função $f$; ou\n",
    "    - quando $|x^{(k+2)}-x^{(k+1)}| <$  *TOL*, então $x^{(k+2)}$ é o zero da função $f$.\n",
    "1. o número máximo de iterações for atingido, ou seja, quando $k =$ *Nmax*. Isso significa que o zero da função $f$ não foi encontrado."
   ]
  },
  {
   "cell_type": "markdown",
   "metadata": {},
   "source": [
    "# Implementação"
   ]
  },
  {
   "cell_type": "code",
   "execution_count": 2,
   "metadata": {},
   "outputs": [
    {
     "name": "stdout",
     "output_type": "stream",
     "text": [
      "Digite o primeiro ponto de partida: \n",
      "stdin> 2\n",
      "Digite o segundo ponto de partida: \n",
      "stdin> 3\n",
      "Digite a tolerância: \n",
      "stdin> 0.0001\n",
      "Digite o número máximo de iterações:\n",
      "stdin> 100\n",
      "Digite o valor de epsilon: \n",
      "stdin> 0.0001\n",
      " Zero da função f: x = 1.4142136790323037.\n",
      " Número de iterações: 5.\n"
     ]
    }
   ],
   "source": [
    "# Funções de entrada\n",
    "f(x::Float64) = x^2 - 2\n",
    "\n",
    "function inputInt(msg::String)\n",
    "    println(msg)\n",
    "    parse(Int64, readline())\n",
    "end\n",
    "\n",
    "function inputFloat(msg::String)\n",
    "    println(msg)\n",
    "    parse(Float64, readline())\n",
    "end\n",
    "\n",
    "\n",
    "# Método das Secantes\n",
    "function secante(x0::Float64,x1::Float64,TOL::Float64,Nmax::Int64,ε::Float64)\n",
    "    fx0 = f(x0)\n",
    "    fx1 = f(x1)\n",
    "    \n",
    "    if abs(fx0) < ε\n",
    "        println(\" Zero da função f: x = $x0\")\n",
    "    elseif abs(fx1) < ε\n",
    "        println(\" Zero da função f: x = $x1\")\n",
    "    else\n",
    "        for k = 1:Nmax  # número de iterações\n",
    "            if fx1 == fx0\n",
    "                error(\"Divisão por 0 na $k iteracao!\")\n",
    "            end\n",
    "            \n",
    "            x2 = x1 - fx1*(x1-x0)/(fx1-fx0)\n",
    "            \n",
    "            if abs(x2 - x1) < TOL\n",
    "                return println(\" Zero da função f: x = $x2.\\n Número de iterações: $k.\")\n",
    "            end\n",
    "            \n",
    "            x0  = x1\n",
    "            x1  = x2\n",
    "            fx0 = f(x0)\n",
    "            fx1 = f(x1)\n",
    "        end\n",
    "        error(\"Atingiu o número máximo de iterações!\")\n",
    "    end\n",
    "end\n",
    "\n",
    "\n",
    "function main()\n",
    "    #Entrada\n",
    "    x0   = inputFloat(\"Digite o primeiro ponto de partida: \")\n",
    "    x1   = inputFloat(\"Digite o segundo ponto de partida: \")\n",
    "    TOL  = inputFloat(\"Digite a tolerância: \")\n",
    "    Nmax = inputInt(\"Digite o número máximo de iterações:\") \n",
    "    ε    = inputFloat(\"Digite o valor de epsilon: \")\n",
    "    \n",
    "    # Método das Secantes\n",
    "    secante(x0,x1,TOL,Nmax,ε)\n",
    "end\n",
    "\n",
    "\n",
    "main()"
   ]
  },
  {
   "cell_type": "code",
   "execution_count": null,
   "metadata": {},
   "outputs": [],
   "source": []
  }
 ],
 "metadata": {
  "kernelspec": {
   "display_name": "Julia 1.4.2",
   "language": "julia",
   "name": "julia-1.4"
  },
  "language_info": {
   "file_extension": ".jl",
   "mimetype": "application/julia",
   "name": "julia",
   "version": "1.4.2"
  }
 },
 "nbformat": 4,
 "nbformat_minor": 4
}
