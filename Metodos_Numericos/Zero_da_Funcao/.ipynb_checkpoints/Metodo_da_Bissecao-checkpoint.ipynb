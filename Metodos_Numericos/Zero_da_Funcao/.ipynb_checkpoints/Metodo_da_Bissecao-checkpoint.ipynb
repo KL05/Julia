{
 "cells": [
  {
   "cell_type": "markdown",
   "metadata": {},
   "source": [
    "# Método da Bisseção\n",
    "Seja $f:[a,b] \\rightarrow \\mathbb{R}$ uma função contínua. Se $f(a) \\cdot f(b) \\leq 0$, então existe um zero da função $f$ no intervalo $[a,b]$.\n",
    "\n",
    "## Algoritmo\n",
    "**Entrada:** função $f$, extremos do intervalo: $a$ e $b$, tolerância *TOL*, valor próximo de zero $\\varepsilon$ e o número máximo de iterações *Nmax*.\n",
    "### Passo 1:\n",
    "Verifique se $|f(a)| < \\varepsilon$ (ou se $|f(b)| < \\varepsilon$). Se for, então $a$ (ou $b$) é o zero da função $f$ e o programa é finalizado. Caso contrário, faça $k = 0$ e passe para o próximo passo.\n",
    "### Passo 2:\n",
    "Faça\n",
    "$$x^{(k)} = \\frac{a+b}{2}.$$\n",
    "### Passo 3:\n",
    "Enquanto a condição de parada não for atingida, verifique os casos abaixo:\n",
    "\n",
    "**Caso 1**: se $f(a) \\cdot f(x^{(k)}) < 0$, então o zero da função $f$ está no intervalo $(a, x^{(k)})$. Portanto, faça $b = x^{(k)}$, $k = k + 1$ e volte para o Passo 2; <br>\n",
    "**Caso 2**: se $f(x^{(k)}) \\cdot f(b) < 0$, então o zero da função $f$ está no intervalo $(x^{(k)}, b)$. Portanto, faça $a = x^{(k)}$, $k = k + 1$ e volte para o Passo 2.\n",
    "### Condição de parada:\n",
    "O programa será finalizado quando:\n",
    "1. for obtida a aproximação desejada, isto é.:\n",
    "    - quando $|f(x^{(k)})| < \\varepsilon$, então $x^{(k)}$ é o zero da função $f$; ou\n",
    "    - quando $\\dfrac{|b-a|}{2} <$ *TOL*, então $x^{(k)}$ é o zero da função $f$.\n",
    "1. o número máximo de iterações for atingido, ou seja, quando $k =$ *Nmax*. Isso significa que o zero da função $f$ não foi encontrado."
   ]
  },
  {
   "cell_type": "markdown",
   "metadata": {},
   "source": [
    "# Implementação"
   ]
  },
  {
   "cell_type": "code",
   "execution_count": 1,
   "metadata": {},
   "outputs": [
    {
     "name": "stdout",
     "output_type": "stream",
     "text": [
      "Digite o extremo esquerdo: \n",
      "stdin> -1\n",
      "Digite o extremo direito: \n",
      "stdin> 2\n",
      "Digite a tolerância: \n",
      "stdin> 0.001\n",
      "Digite o número máximo de iterações: \n",
      "stdin> 100\n",
      "Digite o valor de epsilon: \n",
      "stdin> 0.001\n",
      " Zero da função f: x = 1.4140625. \n",
      " Número de iterações: 7.\n"
     ]
    }
   ],
   "source": [
    "# Funções de entrada\n",
    "f(x::Float64) = x^2 - 2\n",
    "\n",
    "function inputInt(msg::String)\n",
    "    println(msg)\n",
    "    parse(Int64, readline())\n",
    "end\n",
    "\n",
    "function inputFloat(msg::String)\n",
    "    println(msg)\n",
    "    parse(Float64, readline())\n",
    "end\n",
    "\n",
    "\n",
    "# Método da Bisseção\n",
    "function bissecao(a::Float64,b::Float64,TOL::Float64,Nmax::Int64, ε::Float64)\n",
    "    fa = f(a)\n",
    "    fb = f(b)\n",
    "    \n",
    "    if abs(fa) < ε\n",
    "        println(\" Zero da função f: x = $a\")\n",
    "    elseif abs(fb) < ε\n",
    "        println(\" Zero da função f: x = $b\")\n",
    "    else\n",
    "        fa*fb < 0.0 || error(\"Não foi possível determinar o zero da função f no intervalo ($a,$b), pois f($a)*f($b) = $(f(a)*f(b)) > 0.\")\n",
    "        k = 1   # número de iterações\n",
    "        \n",
    "        local x\n",
    "        while abs(b-a)/2 > TOL\n",
    "            x  = (a+b)/2\n",
    "            fx = f(x)\n",
    "            \n",
    "            if abs(fx) < ε\n",
    "                break\n",
    "            elseif fa*fx < 0.0\n",
    "                b = x\n",
    "            else\n",
    "                a  = x\n",
    "                fa = fx\n",
    "            end\n",
    "            \n",
    "            k != Nmax || error(\"Atingiu o número máximo de iterações! \\na = $a, b = $b, f($x) = $fx\")\n",
    "            k += 1\n",
    "        end\n",
    "        println(\" Zero da função f: x = $x. \\n Número de iterações: $k.\")\n",
    "    end\n",
    "end\n",
    "\n",
    "\n",
    "function main()\n",
    "    # Entrada\n",
    "    a    = inputFloat(\"Digite o extremo esquerdo: \")\n",
    "    b    = inputFloat(\"Digite o extremo direito: \")\n",
    "    TOL  = inputFloat(\"Digite a tolerância: \")\n",
    "    Nmax = inputInt(\"Digite o número máximo de iterações: \")\n",
    "    ε    = inputFloat(\"Digite o valor de epsilon: \")\n",
    "\n",
    "    # Método da Bisseção\n",
    "    bissecao(a,b,TOL,Nmax,ε)    \n",
    "end\n",
    "\n",
    "\n",
    "main()"
   ]
  },
  {
   "cell_type": "code",
   "execution_count": null,
   "metadata": {},
   "outputs": [],
   "source": []
  }
 ],
 "metadata": {
  "kernelspec": {
   "display_name": "Julia 1.4.2",
   "language": "julia",
   "name": "julia-1.4"
  },
  "language_info": {
   "file_extension": ".jl",
   "mimetype": "application/julia",
   "name": "julia",
   "version": "1.4.2"
  }
 },
 "nbformat": 4,
 "nbformat_minor": 4
}
