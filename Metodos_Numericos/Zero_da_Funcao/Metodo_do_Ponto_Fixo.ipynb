{
 "cells": [
  {
   "cell_type": "markdown",
   "metadata": {},
   "source": [
    "# Método do ponto fixo\n",
    "Seja $f: \\mathbb{R} \\rightarrow \\mathbb{R}$ uma função contínua. Escrevendo $f(x) = 0$ como $g(x) = x$, pode-se encontrar o zero da função $f$ encontrando o ponto fixo da função $g$.\n",
    "## Algoritmo\n",
    "**Entrada:** ponto de partida $x^{(0)}$, tolerância *TOL*, valor próximo de zero $\\varepsilon$ e número máximo de iterações *Nmax*.\n",
    "### Passo 1:\n",
    "Se $f(x^{(0)}) = 0$, então $x^{(0)}$ é o zero da função $f$ e o programa é finalizado. Caso contrário, faça $k = 0$ e passe para o próximo passo.\n",
    "### Passo 2:\n",
    "Faça\n",
    "$$x^{(k+1)} = g(x^{(k)})$$\n",
    "### Passo 3:\n",
    "Enquanto a condição de parada não for atingida, faça $k = k + 1$ e volte para o Passo 2.\n",
    "\n",
    "### Condição de Parada:\n",
    "O programa será finalizado quando:\n",
    "1. for obtida a aproximação desejada, isto é.:\n",
    "    - quando $|f(x^{(k+1)})| < \\varepsilon$, então $x^{(k+1)}$ é o zero da função $f$; ou\n",
    "    - quando $|x^{(k+1)}-x^{(k)}| <$ *TOL*, então $x^{(k+1)}$ é o zero da função $f$.\n",
    "1. o número máximo de iterações for atingido, ou seja, quando $k =$ *Nmax*. Isso significa que o zero da função $f$ não foi encontrado."
   ]
  },
  {
   "cell_type": "markdown",
   "metadata": {},
   "source": [
    "# Implementação"
   ]
  },
  {
   "cell_type": "code",
   "execution_count": 1,
   "metadata": {},
   "outputs": [
    {
     "name": "stdout",
     "output_type": "stream",
     "text": [
      "Digite o ponto de partida: \n",
      "stdin> 0\n",
      "Digite a tolerância: \n",
      "stdin> 0.001\n",
      "Digite o número máximo de iterações:\n",
      "stdin> 100\n",
      "Digite o valor próximo de zero: \n",
      "stdin> 0.001\n",
      " Ponto fixo de g e zero da função f: x = -1.841255113911434. \n",
      " Número de iterações: 6.\n"
     ]
    }
   ],
   "source": [
    "# Funções de entrada\n",
    "f(x::Float64) = exp(x) - x - 2\n",
    "g(x::Float64) = exp(x) - 2\n",
    "\n",
    "function inputInt(msg::String)\n",
    "    println(msg)\n",
    "    parse(Int64, readline())\n",
    "end\n",
    "\n",
    "function inputFloat(msg::String)\n",
    "    println(msg)\n",
    "    parse(Float64, readline())\n",
    "end\n",
    "\n",
    "\n",
    "# Método do Ponto Fixo\n",
    "function pontoFixo(x0::Float64,TOL::Float64,Nmax::Int64,ε::Float64)\n",
    "    fx = f(x0)\n",
    "    for k = 1:Nmax # número de iterações\n",
    "        if abs(fx) < ε\n",
    "            println(\" Zero da função f: x = $x. \\n Número de iterações: $k\")\n",
    "        end\n",
    "        \n",
    "        x1 = g(x0)    \n",
    "        if abs(x1 - x0) < TOL\n",
    "            return println(\" Ponto fixo de g e zero da função f: x = $x1. \\n Número de iterações: $k.\")\n",
    "        end\n",
    "        \n",
    "        x0 = x1\n",
    "    end\n",
    "    error(\"Atingiu o número máximo de iterações!\")\n",
    "end\n",
    "\n",
    "\n",
    "function main()\n",
    "    # Entrada\n",
    "    x0   = inputFloat(\"Digite o ponto de partida: \")\n",
    "    TOL  = inputFloat(\"Digite a tolerância: \")\n",
    "    Nmax = inputInt(\"Digite o número máximo de iterações:\") \n",
    "    ε    = inputFloat(\"Digite o valor próximo de zero: \")\n",
    "\n",
    "    # Método do Ponto Fixo\n",
    "    pontoFixo(x0,TOL,Nmax,ε)\n",
    "end\n",
    "\n",
    "\n",
    "main()"
   ]
  },
  {
   "cell_type": "code",
   "execution_count": null,
   "metadata": {},
   "outputs": [],
   "source": []
  }
 ],
 "metadata": {
  "kernelspec": {
   "display_name": "Julia 1.4.2",
   "language": "julia",
   "name": "julia-1.4"
  },
  "language_info": {
   "file_extension": ".jl",
   "mimetype": "application/julia",
   "name": "julia",
   "version": "1.4.2"
  }
 },
 "nbformat": 4,
 "nbformat_minor": 4
}
