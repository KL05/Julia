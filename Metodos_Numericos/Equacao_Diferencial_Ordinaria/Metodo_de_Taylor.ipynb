{
 "cells": [
  {
   "cell_type": "markdown",
   "metadata": {},
   "source": [
    "# Método de Taylor de Ordem $n$\n",
    "Seja um problema de valor inicial da forma:\n",
    "$$\n",
    "\\frac{dy}{dt}(t) = f(t,y), \\ {\\rm para} \\ t \\in [a,b],\n",
    "$$\n",
    "sujeito a uma condição inicial: $y(a) = \\alpha \\in \\mathbb{R}$.\n",
    "\n",
    "## Algoritmo\n",
    "**Entrada:** \n",
    "- função: $f$;\n",
    "- extremos do intervalo: $a$ e $b$;\n",
    "- condição inicial: $\\alpha$\n",
    "- número de pontos na malha: $N$;\n",
    "- distância entre os pontos: $h = \\frac{b-a}{N}$;\n",
    "- pontos da malha: $t_i = a + (i-1)h, i = 1,...,N$.\n",
    "\n",
    "**Método de Taylor de Ordem $n$**\n",
    "$$\n",
    "w_1 = \\alpha,\n",
    "$$\n",
    "$$\n",
    "w_{i+1} = w_{i} + h T^{(n)}(t_i,w_i),\n",
    "$$\n",
    "$$\n",
    "T^{(n)}(t_i,w_i) = f(t_i,w_i) + \\frac{h}{2} f'(t_i,w_i) + \\frac{h^{n-1}}{n!} f^{(n-1)}(t_i,w_i),\n",
    "$$\n",
    "para $i = 2,3,...,N$"
   ]
  },
  {
   "cell_type": "markdown",
   "metadata": {},
   "source": [
    "# Implementação"
   ]
  },
  {
   "cell_type": "code",
   "execution_count": null,
   "metadata": {},
   "outputs": [],
   "source": [
    "# Pacote\n",
    "using Pkg;\n",
    "Pkg.add(\"Plots\");"
   ]
  },
  {
   "cell_type": "code",
   "execution_count": null,
   "metadata": {},
   "outputs": [],
   "source": [
    "using Plots"
   ]
  },
  {
   "cell_type": "code",
   "execution_count": null,
   "metadata": {},
   "outputs": [],
   "source": [
    "# Funções\n",
    "function f(t,y)\n",
    "    return y - t^2 + 1.0\n",
    "end\n",
    "\n",
    "function euler(t,w,N,h)\n",
    "    for i in 2:N\n",
    "        t[i] = t[1] + (i-1)*h\n",
    "        w[i] = w[i-1] + h*f(t[i-1],w[i-1])\n",
    "    end\n",
    "    \n",
    "    return w\n",
    "end\n",
    "\n",
    "\n",
    "# Gráfico\n",
    "function grafico(t,w)\n",
    "    p1 = scatter(t,w,c=\"blue\",label=\"w1\")\n",
    "    plot!(p1,t,w, title=\"Solução\", label=\"w1\")\n",
    "    xlabel!(\"t\")\n",
    "    ylabel!(\"w\")\n",
    "end\n",
    "\n",
    "\n",
    "function main()\n",
    "    # Entrada\n",
    "    N = 10\n",
    "    a = 0.0\n",
    "    b = 2.0\n",
    "    h = (b-a)/N\n",
    "    \n",
    "    t    = zeros(N)\n",
    "    t[1] = a\n",
    "    \n",
    "    w    = zeros(N) # Solução aproximada\n",
    "    w[1] =  0.5     # Condição inicial\n",
    "    \n",
    "    # Método de Euler\n",
    "    w = euler(t,w,N,h)\n",
    "    \n",
    "    println(\"Solução Aproximada: $w\")\n",
    "    \n",
    "    grafico(t,w)\n",
    "end\n",
    "\n",
    "\n",
    "main()"
   ]
  }
 ],
 "metadata": {
  "kernelspec": {
   "display_name": "Julia 1.4.2",
   "language": "julia",
   "name": "julia-1.4"
  },
  "language_info": {
   "file_extension": ".jl",
   "mimetype": "application/julia",
   "name": "julia",
   "version": "1.4.2"
  }
 },
 "nbformat": 4,
 "nbformat_minor": 4
}
