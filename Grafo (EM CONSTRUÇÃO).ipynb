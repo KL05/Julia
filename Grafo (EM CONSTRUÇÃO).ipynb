{
 "cells": [
  {
   "cell_type": "code",
   "execution_count": 14,
   "metadata": {},
   "outputs": [],
   "source": []
  },
  {
   "cell_type": "code",
   "execution_count": null,
   "metadata": {},
   "outputs": [],
   "source": []
  },
  {
   "cell_type": "code",
   "execution_count": null,
   "metadata": {},
   "outputs": [],
   "source": []
  },
  {
   "cell_type": "code",
   "execution_count": null,
   "metadata": {},
   "outputs": [],
   "source": []
  },
  {
   "cell_type": "code",
   "execution_count": null,
   "metadata": {},
   "outputs": [],
   "source": []
  },
  {
   "cell_type": "code",
   "execution_count": null,
   "metadata": {},
   "outputs": [],
   "source": []
  },
  {
   "cell_type": "code",
   "execution_count": null,
   "metadata": {},
   "outputs": [],
   "source": []
  },
  {
   "cell_type": "code",
   "execution_count": 38,
   "metadata": {},
   "outputs": [],
   "source": []
  },
  {
   "cell_type": "code",
   "execution_count": null,
   "metadata": {},
   "outputs": [],
   "source": []
  },
  {
   "cell_type": "code",
   "execution_count": null,
   "metadata": {},
   "outputs": [],
   "source": []
  },
  {
   "cell_type": "code",
   "execution_count": null,
   "metadata": {},
   "outputs": [],
   "source": []
  },
  {
   "cell_type": "code",
   "execution_count": null,
   "metadata": {},
   "outputs": [],
   "source": []
  },
  {
   "cell_type": "code",
   "execution_count": null,
   "metadata": {},
   "outputs": [],
   "source": []
  },
  {
   "cell_type": "code",
   "execution_count": null,
   "metadata": {},
   "outputs": [],
   "source": []
  },
  {
   "cell_type": "code",
   "execution_count": null,
   "metadata": {},
   "outputs": [],
   "source": []
  },
  {
   "cell_type": "code",
   "execution_count": 53,
   "metadata": {},
   "outputs": [],
   "source": []
  },
  {
   "cell_type": "code",
   "execution_count": null,
   "metadata": {},
   "outputs": [],
   "source": []
  },
  {
   "cell_type": "code",
   "execution_count": null,
   "metadata": {},
   "outputs": [],
   "source": []
  },
  {
   "cell_type": "code",
   "execution_count": null,
   "metadata": {},
   "outputs": [],
   "source": []
  },
  {
   "cell_type": "code",
   "execution_count": null,
   "metadata": {},
   "outputs": [],
   "source": []
  },
  {
   "cell_type": "code",
   "execution_count": null,
   "metadata": {},
   "outputs": [],
   "source": []
  },
  {
   "cell_type": "code",
   "execution_count": null,
   "metadata": {},
   "outputs": [],
   "source": []
  },
  {
   "cell_type": "code",
   "execution_count": null,
   "metadata": {},
   "outputs": [],
   "source": [
    "Set([1, 'a', 3., 4])"
   ]
  },
  {
   "cell_type": "code",
   "execution_count": null,
   "metadata": {},
   "outputs": [],
   "source": []
  },
  {
   "cell_type": "code",
   "execution_count": null,
   "metadata": {},
   "outputs": [],
   "source": [
    "function Digraph(edges::Vector{Tuple{U,U,T}}) where {T <: Real,U} # U vai ser definito automaticamente\n",
    "    vnames = Set{U}(v for edge in edges for v in edge[1:2])\n",
    "    adjmat = Dict((edge[1], edge[2]) => edge[3] for edge in edges)\n",
    "    return Digraph(adjmat, vnames)\n",
    "end"
   ]
  },
  {
   "cell_type": "code",
   "execution_count": null,
   "metadata": {},
   "outputs": [],
   "source": [
    "if source == dest return [source], 0 end"
   ]
  },
  {
   "cell_type": "code",
   "execution_count": null,
   "metadata": {},
   "outputs": [],
   "source": [
    "dist = Dict(v => inf for v in vertices(g))"
   ]
  },
  {
   "cell_type": "code",
   "execution_count": null,
   "metadata": {},
   "outputs": [],
   "source": [
    "neighbours(g::Digraph, v) = Set((b, c) for ((a, b), c) in edges(g) if a == v)"
   ]
  },
  {
   "cell_type": "code",
   "execution_count": null,
   "metadata": {},
   "outputs": [],
   "source": [
    "dist = ones(Float64, node_size) * Inf"
   ]
  },
  {
   "cell_type": "code",
   "execution_count": null,
   "metadata": {},
   "outputs": [],
   "source": []
  },
  {
   "cell_type": "code",
   "execution_count": null,
   "metadata": {},
   "outputs": [],
   "source": [
    "#VER SE POSSO TIRAR ALGO ÚTIL DOS CÓDIGOS ABAIXO"
   ]
  },
  {
   "cell_type": "code",
   "execution_count": 82,
   "metadata": {},
   "outputs": [
    {
     "ename": "ArgumentError",
     "evalue": "ArgumentError: Package LightGraphs not found in current path:\n- Run `import Pkg; Pkg.add(\"LightGraphs\")` to install the LightGraphs package.\n",
     "output_type": "error",
     "traceback": [
      "ArgumentError: Package LightGraphs not found in current path:\n- Run `import Pkg; Pkg.add(\"LightGraphs\")` to install the LightGraphs package.\n",
      "",
      "Stacktrace:",
      " [1] require(::Module, ::Symbol) at .\\loading.jl:892",
      " [2] top-level scope at In[82]:1"
     ]
    }
   ],
   "source": [
    "# Importing packages\n",
    "using LightGraphs\n",
    "\n",
    "# Retrieves 0-1 'x' vector from the 'state'\n",
    "function getShortestX(state, start_node, end_node, origin, destination)\n",
    "  _x = zeros(Int, length(start_node))\n",
    "  _path = enumerate_paths(state, destination)\n",
    "\n",
    "  for i=1:length(_path)-1\n",
    "    _start = _path[i]\n",
    "    _end = _path[i+1]\n",
    "\n",
    "    for j=1:length(start_node)\n",
    "      if start_node[j]==_start && end_node[j]==_end\n",
    "        _x[j] = 1\n",
    "        break\n",
    "      end\n",
    "    end\n",
    "\n",
    "  end\n",
    "  _x\n",
    "end\n",
    "\n",
    "\n",
    "# Data Preparation\n",
    "network_data_file = \"simple_network.csv\"\n",
    "network_data = readcsv(network_data_file,  header=true)\n",
    "data = network_data[1]\n",
    "header = network_data[2]\n",
    "\n",
    "start_node = round.(Int64, data[:,1])\n",
    "end_node = round.(Int64, data[:,2])\n",
    "c = data[:,3]\n",
    "\n",
    "origin = 1\n",
    "destination = 5\n",
    "\n",
    "# number of nodes and number of links\n",
    "no_node = max( maximum(start_node), maximum(end_node) )\n",
    "no_link = length(start_node)\n",
    "\n",
    "# Creating a graph\n",
    "graph = Graph(no_node)\n",
    "distmx = Inf*ones(no_node, no_node)\n",
    "\n",
    "# Adding links to the graph\n",
    "for i=1:no_link\n",
    "  add_edge!(graph, start_node[i], end_node[i])\n",
    "  distmx[start_node[i], end_node[i]] = c[i]\n",
    "end\n",
    "\n",
    "# Run Dijkstra's Algorithm from the origin node to all nodes\n",
    "state = dijkstra_shortest_paths(graph, origin, distmx)\n",
    "\n",
    "# Retrieving the shortest path\n",
    "path = enumerate_paths(state, destination)\n",
    "println(\"The shortest path is:\", path)\n",
    "\n",
    "# Retrieving the 'x' variable in a 0-1 vector\n",
    "x = getShortestX(state, start_node, end_node, origin, destination)\n",
    "println(\"x vector:\", x)\n",
    "\n",
    "# The cost of shortest path\n",
    "println(\"Cost is $(state.dists[destination])\") # directly from state\n",
    "println(\"Cost is $(dot(c, x))\")                # c'x in scalar\n",
    "println(\"Cost is $(c' * x)\")                   # c'x in 1x1 array"
   ]
  },
  {
   "cell_type": "code",
   "execution_count": null,
   "metadata": {},
   "outputs": [],
   "source": [
    "# Data Preparation\n",
    "network_data_file = \"simple_network.csv\"\n",
    "network_data = readcsv(network_data_file,  header=true)\n",
    "data = network_data[1]\n",
    "header = network_data[2]\n",
    "\n",
    "start_node = round.(Int64, data[:,1])\n",
    "end_node = round.(Int64, data[:,2])\n",
    "c = data[:,3]\n",
    "\n",
    "origin = 1\n",
    "destination = 5\n",
    "\n",
    "# number of nodes and number of links\n",
    "no_node = max( maximum(start_node), maximum(end_node) )\n",
    "no_link = length(start_node)\n",
    "\n",
    "# Preparing sets and variables\n",
    "N = Set(1:no_node)\n",
    "\n",
    "A = Set{Tuple{Int,Int}}()\n",
    "c_dict = Dict()\n",
    "for i in 1:no_link\n",
    "  push!(A, (start_node[i], end_node[i]))\n",
    "  c_dict[(start_node[i], end_node[i])] = c[i]\n",
    "end\n",
    "\n",
    "w = Array{Float64}(no_node)\n",
    "\n",
    "# Step 0\n",
    "w[origin] = 0\n",
    "X = Set{Int}([origin])\n",
    "Xbar = setdiff(N, X)\n",
    "\n",
    "# Iterations for Dijkstra's algorithm\n",
    "while !isempty(Xbar)\n",
    "  # Step 1\n",
    "  XX = Set{Tuple{Int,Int}}()\n",
    "  for i in X, j in Xbar\n",
    "    if (i,j) in A\n",
    "      push!(XX, (i,j))\n",
    "    end\n",
    "  end\n",
    "\n",
    "  # Step 2\n",
    "  min_value = Inf\n",
    "  q = 0\n",
    "  for (i,j) in XX\n",
    "    if w[i] + c_dict[(i,j)] < min_value\n",
    "      min_value = w[i] + c_dict[(i,j)]\n",
    "      q = j\n",
    "    end\n",
    "  end\n",
    "\n",
    "  # Step 3\n",
    "  w[q] = min_value\n",
    "  push!(X, q)\n",
    "\n",
    "  # Step 4\n",
    "  Xbar = setdiff(N, X)\n",
    "end\n",
    "\n",
    "println(\"The length of node $origin to node $destination is: \", w[destination])"
   ]
  },
  {
   "cell_type": "code",
   "execution_count": null,
   "metadata": {},
   "outputs": [],
   "source": []
  },
  {
   "cell_type": "code",
   "execution_count": null,
   "metadata": {},
   "outputs": [],
   "source": [
    "# COMO ELE ORGANIZA:\n",
    "https://github.com/dileep-kishore/Microbiome.jl"
   ]
  },
  {
   "cell_type": "code",
   "execution_count": null,
   "metadata": {},
   "outputs": [],
   "source": [
    "# ver quais variáveis são declaradas (tipos)\n",
    "https://github.com/dileep-kishore/Microbiome.jl/blob/master/src/leafordering.jl"
   ]
  },
  {
   "cell_type": "code",
   "execution_count": null,
   "metadata": {},
   "outputs": [],
   "source": [
    "https://github.com/dileep-kishore/Microbiome.jl/blob/master/src/distances.jl#L5\n",
    "https://github.com/dileep-kishore/CombOpt.jl/blob/master/src/utils.jl\n"
   ]
  },
  {
   "cell_type": "code",
   "execution_count": null,
   "metadata": {},
   "outputs": [],
   "source": []
  },
  {
   "cell_type": "code",
   "execution_count": null,
   "metadata": {},
   "outputs": [],
   "source": [
    "https://github.com/dileep-kishore/CombOpt.jl/blob/master/src/bellman_ford.jl"
   ]
  }
 ],
 "metadata": {
  "kernelspec": {
   "display_name": "Julia 1.4.2",
   "language": "julia",
   "name": "julia-1.4"
  },
  "language_info": {
   "file_extension": ".jl",
   "mimetype": "application/julia",
   "name": "julia",
   "version": "1.4.2"
  }
 },
 "nbformat": 4,
 "nbformat_minor": 4
}
