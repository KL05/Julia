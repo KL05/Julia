{
 "cells": [
  {
   "cell_type": "markdown",
   "metadata": {},
   "source": [
    "# Controle de Fluxo\n",
    "## Tópicos:\n",
    "1. Expressões Compostas;\n",
    "2. if-else if-else;\n",
    "3. while;\n",
    "4. for;\n",
    "5. Exceção;\n",
    "6. Erro."
   ]
  },
  {
   "cell_type": "markdown",
   "metadata": {},
   "source": [
    "## Expressões Compostas"
   ]
  },
  {
   "cell_type": "code",
   "execution_count": 1,
   "metadata": {},
   "outputs": [
    {
     "data": {
      "text/plain": [
       "3"
      ]
     },
     "execution_count": 1,
     "metadata": {},
     "output_type": "execute_result"
    }
   ],
   "source": [
    "z = begin\n",
    "           x = 1\n",
    "           y = 2\n",
    "           x + y\n",
    "    end"
   ]
  },
  {
   "cell_type": "code",
   "execution_count": 2,
   "metadata": {},
   "outputs": [
    {
     "data": {
      "text/plain": [
       "3"
      ]
     },
     "execution_count": 2,
     "metadata": {},
     "output_type": "execute_result"
    }
   ],
   "source": [
    "# ou\n",
    "\n",
    "z = (x = 1; y = 2; x + y)"
   ]
  },
  {
   "cell_type": "code",
   "execution_count": 3,
   "metadata": {},
   "outputs": [
    {
     "data": {
      "text/plain": [
       "3"
      ]
     },
     "execution_count": 3,
     "metadata": {},
     "output_type": "execute_result"
    }
   ],
   "source": [
    "# ou\n",
    "\n",
    "begin x = 1; y = 2; x + y end"
   ]
  },
  {
   "cell_type": "code",
   "execution_count": 4,
   "metadata": {},
   "outputs": [
    {
     "data": {
      "text/plain": [
       "3"
      ]
     },
     "execution_count": 4,
     "metadata": {},
     "output_type": "execute_result"
    }
   ],
   "source": [
    "# ou\n",
    "\n",
    "(x = 1;\n",
    " y = 2;\n",
    " x + y)"
   ]
  },
  {
   "cell_type": "markdown",
   "metadata": {},
   "source": [
    "## If-else if-else"
   ]
  },
  {
   "cell_type": "code",
   "execution_count": 7,
   "metadata": {},
   "outputs": [
    {
     "name": "stdout",
     "output_type": "stream",
     "text": [
      "10 é menor do que 20\n"
     ]
    }
   ],
   "source": [
    "x, y = 10, 20\n",
    "\n",
    "if x < y\n",
    "    println(\"$x é menor do que $y\")\n",
    "elseif x > y\n",
    "    println(\"$x é maior do que $y\")\n",
    "else\n",
    "    println(\"$x é igual a $y\")\n",
    "end"
   ]
  },
  {
   "cell_type": "code",
   "execution_count": 9,
   "metadata": {},
   "outputs": [
    {
     "name": "stdout",
     "output_type": "stream",
     "text": [
      "10 não é menor do que 5\n"
     ]
    }
   ],
   "source": [
    "# ou     a ? b : c\n",
    "\n",
    "x, y = 10, 5\n",
    "\n",
    "println(x < y ? \"$x menor do que $y\" : \"$x não é menor do que $y\")"
   ]
  },
  {
   "cell_type": "code",
   "execution_count": 11,
   "metadata": {},
   "outputs": [
    {
     "name": "stdout",
     "output_type": "stream",
     "text": [
      "2 é igual a 2\n"
     ]
    }
   ],
   "source": [
    "comparar(x, y) = println(x < y ? \"$x é menor do que $y\" :\n",
    "                     x > y ? \"$x é maior do que $y\" : \"$x é igual a $y\")\n",
    "\n",
    "comparar(2, 2)"
   ]
  },
  {
   "cell_type": "code",
   "execution_count": 12,
   "metadata": {},
   "outputs": [
    {
     "name": "stdout",
     "output_type": "stream",
     "text": [
      "yes\n"
     ]
    },
    {
     "data": {
      "text/plain": [
       "\"yes\""
      ]
     },
     "execution_count": 12,
     "metadata": {},
     "output_type": "execute_result"
    }
   ],
   "source": [
    "v(x) = (println(x); x)\n",
    "\n",
    "1 < 2 ? v(\"yes\") : v(\"no\")"
   ]
  },
  {
   "cell_type": "markdown",
   "metadata": {},
   "source": [
    "## While"
   ]
  },
  {
   "cell_type": "code",
   "execution_count": 20,
   "metadata": {},
   "outputs": [
    {
     "name": "stdout",
     "output_type": "stream",
     "text": [
      "0\n",
      "1\n",
      "2\n",
      "3\n",
      "4\n"
     ]
    }
   ],
   "source": [
    "i = 0\n",
    "\n",
    "while i < 5\n",
    "    println(i)\n",
    "    i += 1\n",
    "end"
   ]
  },
  {
   "cell_type": "code",
   "execution_count": 31,
   "metadata": {},
   "outputs": [
    {
     "name": "stdout",
     "output_type": "stream",
     "text": [
      "Nome 1 = Julia\n",
      "Nome 2 = Ted\n",
      "Nome 3 = Robyn\n",
      "Nome 4 = Lily\n"
     ]
    }
   ],
   "source": [
    "nomes = [\"Julia\", \"Ted\", \"Robyn\", \"Lily\"]\n",
    "i = 1\n",
    "\n",
    "while i <= length(nomes)\n",
    "    nome = nomes[i]\n",
    "    println(\"Nome $i = $nome\")\n",
    "    i += 1\n",
    "end"
   ]
  },
  {
   "cell_type": "code",
   "execution_count": 32,
   "metadata": {},
   "outputs": [
    {
     "name": "stdout",
     "output_type": "stream",
     "text": [
      "5\n"
     ]
    }
   ],
   "source": [
    "while true\n",
    "    println(i)\n",
    "    if i >= 5\n",
    "        break # finaliza while\n",
    "    end\n",
    "    i += 1\n",
    "end"
   ]
  },
  {
   "cell_type": "markdown",
   "metadata": {},
   "source": [
    "## For"
   ]
  },
  {
   "cell_type": "code",
   "execution_count": 22,
   "metadata": {},
   "outputs": [
    {
     "name": "stdout",
     "output_type": "stream",
     "text": [
      "1\n",
      "2\n",
      "3\n",
      "4\n"
     ]
    }
   ],
   "source": [
    "i = 0\n",
    "\n",
    "for i = 1:4\n",
    "    println(i)\n",
    "end"
   ]
  },
  {
   "cell_type": "code",
   "execution_count": 23,
   "metadata": {},
   "outputs": [
    {
     "name": "stdout",
     "output_type": "stream",
     "text": [
      "1\n",
      "4\n",
      "0\n"
     ]
    }
   ],
   "source": [
    "for i in [1,4,0]\n",
    "    println(i)\n",
    "end"
   ]
  },
  {
   "cell_type": "code",
   "execution_count": 33,
   "metadata": {},
   "outputs": [
    {
     "name": "stdout",
     "output_type": "stream",
     "text": [
      "3\n",
      "6\n",
      "9\n"
     ]
    }
   ],
   "source": [
    "for i = 1:10\n",
    "    if i % 3 != 0\n",
    "        continue # ignora os comandos posteriores\n",
    "    end\n",
    "    println(i)\n",
    "end"
   ]
  },
  {
   "cell_type": "code",
   "execution_count": 36,
   "metadata": {},
   "outputs": [
    {
     "name": "stdout",
     "output_type": "stream",
     "text": [
      "(1, 3)\n",
      "(1, 4)\n",
      "(2, 3)\n",
      "(2, 4)\n"
     ]
    }
   ],
   "source": [
    "for i = 1:2, j = 3:4\n",
    "    println((i, j))\n",
    "    i = 0\n",
    "end"
   ]
  },
  {
   "cell_type": "code",
   "execution_count": 39,
   "metadata": {},
   "outputs": [
    {
     "name": "stdout",
     "output_type": "stream",
     "text": [
      "Ted\n",
      "Robyn\n",
      "Barney\n",
      "Lily\n",
      "Marshall\n"
     ]
    }
   ],
   "source": [
    "amigos = [\"Ted\", \"Robyn\", \"Barney\", \"Lily\", \"Marshall\"]\n",
    "\n",
    "for amigo in amigos\n",
    "    println(amigo)\n",
    "end"
   ]
  },
  {
   "cell_type": "markdown",
   "metadata": {},
   "source": [
    "## Exceção\n",
    "\n",
    "https://docs.julialang.org/en/v1/manual/control-flow/#Exception-Handling-1"
   ]
  },
  {
   "cell_type": "markdown",
   "metadata": {},
   "source": [
    "## Erro\n",
    "\n",
    "https://docs.julialang.org/en/v1/manual/control-flow/#Errors-1"
   ]
  },
  {
   "cell_type": "code",
   "execution_count": 40,
   "metadata": {},
   "outputs": [
    {
     "ename": "ErrorException",
     "evalue": "x não é positivo",
     "output_type": "error",
     "traceback": [
      "x não é positivo",
      "",
      "Stacktrace:",
      " [1] error(::String) at .\\error.jl:33",
      " [2] top-level scope at In[40]:2"
     ]
    }
   ],
   "source": [
    "x = -42\n",
    "x > 0 || error(\"x não é positivo\")"
   ]
  }
 ],
 "metadata": {
  "kernelspec": {
   "display_name": "Julia 1.4.0",
   "language": "julia",
   "name": "julia-1.4"
  },
  "language_info": {
   "file_extension": ".jl",
   "mimetype": "application/julia",
   "name": "julia",
   "version": "1.4.0"
  }
 },
 "nbformat": 4,
 "nbformat_minor": 4
}
