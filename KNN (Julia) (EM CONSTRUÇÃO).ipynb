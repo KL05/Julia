{
 "cells": [
  {
   "cell_type": "code",
   "execution_count": null,
   "metadata": {},
   "outputs": [],
   "source": [
    "function distancia(x::Float64, y::Float64)\n",
    "    \n",
    "end"
   ]
  },
  {
   "cell_type": "code",
   "execution_count": null,
   "metadata": {},
   "outputs": [],
   "source": [
    "grafo = Dict()\n",
    "arquivo = open(\"arquivo.txt\", \"r\");\n",
    "arquivo = split(read(arquivo, String), keepempty = true)\n",
    "\n",
    "i, j, l= 1, 1, 2\n",
    "\n",
    "aux_no = []\n",
    "push!(aux_no,[])\n",
    "\n",
    "for linha in arquivo #matriz de 4 colunas: ponto, classe, x , y\n",
    "    if  j % 3 != 0\n",
    "        push!(aux_no[i], linha)\n",
    "    else if l % 2 == 0\n",
    "        linha_aux = parse(Float64,linha)\n",
    "        l += 1\n",
    "        continue\n",
    "    else\n",
    "        linha = parse(Float64, linha)\n",
    "        linha_tupla = (linha_aux, linha)\n",
    "        push!(aux_no[i], linha_tupla)\n",
    "        push!(aux_no,[])\n",
    "        l += 1\n",
    "        i += 1\n",
    "    end\n",
    "    j += 1\n",
    "end\n",
    "    \n",
    "for i in 1:lenght(aux_no)\n",
    "    \n",
    "end\n",
    "\n",
    "println(aux_no)\n",
    "\n",
    "tamanho = i-1\n",
    "\n",
    "for i = 1:tamanho\n",
    "    grafo[aux_no[i][1]] = Dict()\n",
    "    grafo[aux_no[i][2]] = Dict()\n",
    "end\n",
    "\n",
    "println(grafo)\n",
    "println(tamanho)\n",
    "\n",
    "for i = 1:tamanho\n",
    "    grafo[aux_no[i][1]][aux_no[i][2]] = aux_no[i][3]\n",
    "    grafo[aux_no[i][2]][aux_no[i][1]] = aux_no[i][3]\n",
    "end\n",
    "#close(arquivo)\n",
    "\n",
    "grafo"
   ]
  },
  {
   "cell_type": "code",
   "execution_count": null,
   "metadata": {},
   "outputs": [],
   "source": [
    "a = (\"1\",\"2\")\n",
    "b = (10,4)"
   ]
  },
  {
   "cell_type": "code",
   "execution_count": null,
   "metadata": {},
   "outputs": [],
   "source": [
    "ss = [parse(Float64,a[h]) for h in 1:length(a)]"
   ]
  },
  {
   "cell_type": "code",
   "execution_count": null,
   "metadata": {},
   "outputs": [],
   "source": [
    "soma = 0\n",
    "for i in 1:length(a)\n",
    "   k = (a[i] - b[i])^2\n",
    "    soma += k\n",
    "end\n",
    "\n",
    "sqrt.([x^2 for x in 1:4])\n",
    "\n",
    "soma"
   ]
  },
  {
   "cell_type": "code",
   "execution_count": 60,
   "metadata": {},
   "outputs": [
    {
     "data": {
      "text/plain": [
       "5.477225575051661"
      ]
     },
     "execution_count": 60,
     "metadata": {},
     "output_type": "execute_result"
    }
   ],
   "source": [
    "soma = sqrt(sum([x^2 for x in 1:4]))"
   ]
  },
  {
   "cell_type": "code",
   "execution_count": 76,
   "metadata": {},
   "outputs": [
    {
     "name": "stdout",
     "output_type": "stream",
     "text": [
      "  0.188650 seconds (48.68 k allocations: 78.712 MiB, 52.63% gc time)\n"
     ]
    },
    {
     "data": {
      "text/plain": [
       "1291990006563070912"
      ]
     },
     "execution_count": 76,
     "metadata": {},
     "output_type": "execute_result"
    }
   ],
   "source": [
    "@time (sum([ll^2 for ll in 1:10000000]))"
   ]
  },
  {
   "cell_type": "code",
   "execution_count": 89,
   "metadata": {},
   "outputs": [
    {
     "name": "stdout",
     "output_type": "stream",
     "text": [
      "  0.116055 seconds (49.91 k allocations: 78.775 MiB, 17.65% gc time)\n"
     ]
    },
    {
     "data": {
      "text/plain": [
       "1.1366573831032248e9"
      ]
     },
     "execution_count": 89,
     "metadata": {},
     "output_type": "execute_result"
    }
   ],
   "source": [
    "@time [ll^2 for ll in 1:10000000] |> sum |> sqrt"
   ]
  },
  {
   "cell_type": "code",
   "execution_count": 86,
   "metadata": {},
   "outputs": [
    {
     "name": "stdout",
     "output_type": "stream",
     "text": [
      "  0.470832 seconds (48.39 k allocations: 78.728 MiB, 2.85% gc time)\n"
     ]
    },
    {
     "data": {
      "text/plain": [
       "-2081928620374455488"
      ]
     },
     "execution_count": 86,
     "metadata": {},
     "output_type": "execute_result"
    }
   ],
   "source": [
    "@time (sum([ll^2 for ll in 1:10000000]))"
   ]
  },
  {
   "cell_type": "code",
   "execution_count": 80,
   "metadata": {},
   "outputs": [
    {
     "data": {
      "text/plain": [
       "e (generic function with 2 methods)"
      ]
     },
     "execution_count": 80,
     "metadata": {},
     "output_type": "execute_result"
    }
   ],
   "source": [
    "function e(soma)\n",
    "    for x in 1:10000000\n",
    "        soma += x^2\n",
    "    end\n",
    "    return soma\n",
    "end"
   ]
  },
  {
   "cell_type": "code",
   "execution_count": 82,
   "metadata": {},
   "outputs": [
    {
     "name": "stdout",
     "output_type": "stream",
     "text": [
      "  0.000000 seconds\n"
     ]
    },
    {
     "data": {
      "text/plain": [
       "1291990006563070912"
      ]
     },
     "execution_count": 82,
     "metadata": {},
     "output_type": "execute_result"
    }
   ],
   "source": [
    "@time e(0)"
   ]
  },
  {
   "cell_type": "code",
   "execution_count": 83,
   "metadata": {},
   "outputs": [
    {
     "name": "stdout",
     "output_type": "stream",
     "text": [
      "  0.000000 seconds\n"
     ]
    },
    {
     "data": {
      "text/plain": [
       "1291990006563070912"
      ]
     },
     "execution_count": 83,
     "metadata": {},
     "output_type": "execute_result"
    }
   ],
   "source": [
    "@time e(0)"
   ]
  },
  {
   "cell_type": "code",
   "execution_count": 84,
   "metadata": {},
   "outputs": [
    {
     "name": "stdout",
     "output_type": "stream",
     "text": [
      "  0.000000 seconds\n"
     ]
    },
    {
     "data": {
      "text/plain": [
       "1291990006563070912"
      ]
     },
     "execution_count": 84,
     "metadata": {},
     "output_type": "execute_result"
    }
   ],
   "source": [
    "@time e(0)"
   ]
  },
  {
   "cell_type": "code",
   "execution_count": 50,
   "metadata": {},
   "outputs": [
    {
     "name": "stdout",
     "output_type": "stream",
     "text": [
      "1\n",
      "2\n",
      "3\n"
     ]
    }
   ],
   "source": [
    "for i in 1:3\n",
    "    println(i)\n",
    "end"
   ]
  },
  {
   "cell_type": "code",
   "execution_count": 53,
   "metadata": {},
   "outputs": [
    {
     "data": {
      "text/plain": [
       "2"
      ]
     },
     "execution_count": 53,
     "metadata": {},
     "output_type": "execute_result"
    }
   ],
   "source": [
    "ponto = [1 2]\n",
    "ponto[2]"
   ]
  },
  {
   "cell_type": "code",
   "execution_count": 16,
   "metadata": {},
   "outputs": [
    {
     "name": "stdout",
     "output_type": "stream",
     "text": [
      "Any[Any[1, 2, (0.5, 1.0), 7.5], Any[2, 2, (2.9, 1.9), 5.5154328932550705], Any[3, 2, (1.2, 3.1), 5.445181356024793], Any[4, 2, (0.8, 4.7), 4.788527957525152], Any[5, 2, (2.7, 5.4), 2.8017851452243794], Any[6, 1, (8.1, 4.7), 3.8600518131237562], Any[7, 1, (8.3, 6.6), 3.324154027718933], Any[8, 1, (6.3, 6.7), 1.334166406412633], Any[9, 1, (8.0, 9.1), 3.6619666847201104], Any[10, 1, (5.4, 8.4), 1.456021977856104]]\n",
      "\n",
      "Any[1.334166406412633 => 1, 1.456021977856104 => 1, 2.8017851452243794 => 2, 3.324154027718933 => 1, 3.6619666847201104 => 1, 3.8600518131237562 => 1, 4.788527957525152 => 2, 5.445181356024793 => 2, 5.5154328932550705 => 2, 7.5 => 2]\n",
      "\n",
      "Classe: 1"
     ]
    }
   ],
   "source": [
    "################################## PROGRAMA ORIGINAL ########################################\n",
    "\n",
    "# aprender a gravar o resultado em um arquivo\n",
    "\n",
    "function abrir_arquivo(k)\n",
    "    arquivo = open(\"arquivo2.txt\", \"r\");\n",
    "    arquivo = split(read(arquivo, String), keepempty = true)\n",
    "\n",
    "    i, j, l= 1, 1, 2\n",
    "    count = 0\n",
    "    \n",
    "    aux_no = []\n",
    "    push!(aux_no,[])\n",
    "    \n",
    "    ponto = (5.0, 7.0)\n",
    "\n",
    "    for linha in arquivo #matriz de 4 colunas: ponto, classe, x , y\n",
    "        count += 1\n",
    "        \n",
    "        if linha == \"\"\n",
    "            continue\n",
    "        elseif j % 3 != 0\n",
    "            linha = parse(Int64, linha)\n",
    "            push!(aux_no[i], linha)\n",
    "        elseif l % 2 == 0\n",
    "            global linha_aux = parse(Float64,linha)\n",
    "            l += 1\n",
    "            continue\n",
    "        else\n",
    "            linha = parse(Float64, linha)\n",
    "            linha_tupla = (linha_aux, linha)\n",
    "            \n",
    "            push!(aux_no[i], linha_tupla)\n",
    "            aux_distancia = distancia(ponto, linha_tupla)\n",
    "            push!(aux_no[i], aux_distancia)\n",
    "            \n",
    "            if count < length(arquivo)\n",
    "                push!(aux_no,[]) # resolver esse problema depois\n",
    "            end\n",
    "            \n",
    "            l += 1\n",
    "            i += 1\n",
    "        end\n",
    "        \n",
    "        j += 1 \n",
    "    end\n",
    "    \n",
    "    return aux_no\n",
    "end\n",
    "\n",
    "function distancia(ponto, linha_tupla)\n",
    "    return sqrt(sum([(ponto[k] - linha_tupla[k])^2 for k in 1:length(ponto)])) # cria uma array grande que compromete a performace\n",
    "    #ou\n",
    "    # return [(ponto[k] - linha_tupla[k])^2 for k in 1:length(ponto)] |> sum |> sqrt\n",
    "end\n",
    "\n",
    "function distancia_sort(aux_no,k)\n",
    "    println(aux_no)\n",
    "    qtd_classe = 2\n",
    "    distancia_classe = []\n",
    "    \n",
    "    for i in 1:length(aux_no)\n",
    "        push!(distancia_classe, aux_no[i][4] => aux_no[i][2])\n",
    "    end\n",
    "\n",
    "    sort!(distancia_classe)\n",
    "    \n",
    "    println(\"\\n\", distancia_classe, \"\\n\")\n",
    "    \n",
    "    quantidade = zeros(Int64, qtd_classe) # fazer para gerar o numero de classe automaticamente\n",
    "    \n",
    "    for i in 1:k\n",
    "        classe = distancia_classe[i][2]\n",
    "        quantidade[classe] += 1\n",
    "    end\n",
    "    \n",
    "    maximo_qtd, maximo_index = findmax(quantidade)\n",
    "    \n",
    "    return maximo_index\n",
    "    #compara antes de dar entrada na matriz\n",
    "end\n",
    "\n",
    "# Modificações: recebe a dimensão -> usar para estender o quanto a tupla vai armazenar\n",
    "# guardar por enquanto\n",
    "\n",
    "function main()\n",
    "    k = 5\n",
    "    aux_no = abrir_arquivo(k)\n",
    "    dist = distancia_sort(aux_no, k)\n",
    "    return print(\"Classe: $dist\")\n",
    "end\n",
    "\n",
    "main()"
   ]
  },
  {
   "cell_type": "code",
   "execution_count": 20,
   "metadata": {},
   "outputs": [
    {
     "data": {
      "text/plain": [
       "2-element Array{Any,1}:\n",
       " \"a\"\n",
       " Any[Any[]]"
      ]
     },
     "execution_count": 20,
     "metadata": {},
     "output_type": "execute_result"
    }
   ],
   "source": [
    "as = []\n",
    "push!(as, \"a\")\n",
    "push!(as, [])\n",
    "push!(as[2],[])\n",
    "as"
   ]
  },
  {
   "cell_type": "code",
   "execution_count": null,
   "metadata": {},
   "outputs": [],
   "source": []
  },
  {
   "cell_type": "code",
   "execution_count": 141,
   "metadata": {},
   "outputs": [
    {
     "data": {
      "text/plain": [
       "11-element Array{Any,1}:\n",
       " Any[\"1\", \"2\", (0.5, 1.0)]\n",
       " Any[\"2\", \"2\", (2.9, 1.9)]\n",
       " Any[\"3\", \"2\", (1.2, 3.1)]\n",
       " Any[\"4\", \"2\", (0.8, 4.7)]\n",
       " Any[\"5\", \"2\", (2.7, 5.4)]\n",
       " Any[\"6\", \"1\", (8.1, 4.7)]\n",
       " Any[\"7\", \"1\", (8.3, 6.6)]\n",
       " Any[\"8\", \"1\", (6.3, 6.7)]\n",
       " Any[\"9\", \"1\", (8.0, 9.1)]\n",
       " Any[\"10\", \"1\", (5.4, 8.4)]\n",
       " Any[]"
      ]
     },
     "execution_count": 141,
     "metadata": {},
     "output_type": "execute_result"
    }
   ],
   "source": [
    "arquivo = open(\"arquivo2.txt\", \"r\");\n",
    "arquivo = split(read(arquivo, String), keepempty = true)\n",
    "\n",
    "i, j, l= 1, 1, 2\n",
    "\n",
    "aux_no = []\n",
    "push!(aux_no,[])\n",
    "#ponto = (x, y)\n",
    "\n",
    "for linha in arquivo #matriz de 4 colunas: ponto, classe, x , y\n",
    "    if linha == \"\"\n",
    "        continue\n",
    "    end\n",
    "    if  j % 3 != 0\n",
    "        parse(Float64, linha)\n",
    "        push!(aux_no[i], linha)\n",
    "    elseif l % 2 == 0\n",
    "        global linha_aux = parse(Float64,linha)\n",
    "        l += 1\n",
    "        continue\n",
    "    else\n",
    "        linha = parse(Float64, linha)\n",
    "        linha_tupla = (linha_aux, linha)\n",
    "        push!(aux_no[i], linha_tupla)\n",
    "        #aux_distancia = distancia(ponto, linha_tupla)\n",
    "        #push!(aux_no[i+1], aux_distancia)\n",
    "        push!(aux_no,[]) # resolver esse problema depois\n",
    "        l += 1\n",
    "        i += 1\n",
    "    end\n",
    "    j += 1\n",
    "end\n",
    "\n",
    "aux_no"
   ]
  },
  {
   "cell_type": "code",
   "execution_count": null,
   "metadata": {},
   "outputs": [],
   "source": []
  },
  {
   "cell_type": "code",
   "execution_count": null,
   "metadata": {},
   "outputs": [],
   "source": []
  },
  {
   "cell_type": "code",
   "execution_count": null,
   "metadata": {},
   "outputs": [],
   "source": []
  },
  {
   "cell_type": "code",
   "execution_count": null,
   "metadata": {},
   "outputs": [],
   "source": []
  },
  {
   "cell_type": "code",
   "execution_count": 7,
   "metadata": {},
   "outputs": [
    {
     "name": "stdout",
     "output_type": "stream",
     "text": [
      "Any[Any[1, 2, [5.4, 8.4], 7.5], Any[2, 2, [5.4, 8.4], 5.5154328932550705], Any[3, 2, [5.4, 8.4], 5.445181356024793], Any[4, 2, [5.4, 8.4], 4.788527957525152], Any[5, 2, [5.4, 8.4], 2.8017851452243794], Any[6, 1, [5.4, 8.4], 3.8600518131237562], Any[7, 1, [5.4, 8.4], 3.324154027718933], Any[8, 1, [5.4, 8.4], 1.334166406412633], Any[9, 1, [5.4, 8.4], 3.6619666847201104], Any[10, 1, [5.4, 8.4], 1.456021977856104]]\n",
      "Any[Any[1, 2, [5.4, 8.4], 7.5], Any[2, 2, [5.4, 8.4], 5.5154328932550705], Any[3, 2, [5.4, 8.4], 5.445181356024793], Any[4, 2, [5.4, 8.4], 4.788527957525152], Any[5, 2, [5.4, 8.4], 2.8017851452243794], Any[6, 1, [5.4, 8.4], 3.8600518131237562], Any[7, 1, [5.4, 8.4], 3.324154027718933], Any[8, 1, [5.4, 8.4], 1.334166406412633], Any[9, 1, [5.4, 8.4], 3.6619666847201104], Any[10, 1, [5.4, 8.4], 1.456021977856104]]\n",
      "\n",
      "Any[1.334166406412633 => 1, 1.456021977856104 => 1, 2.8017851452243794 => 2, 3.324154027718933 => 1, 3.6619666847201104 => 1, 3.8600518131237562 => 1, 4.788527957525152 => 2, 5.445181356024793 => 2, 5.5154328932550705 => 2, 7.5 => 2]\n",
      "\n",
      "Classe: 1\n",
      "  0.042775 seconds (14.44 k allocations: 643.545 KiB)\n"
     ]
    }
   ],
   "source": [
    "################################## PROGRAMA ORIGINAL ########################################\n",
    "\n",
    "# aprender a gravar o resultado em um arquivo\n",
    "\n",
    "function abrir_arquivo(k)\n",
    "    arquivo = open(\"arquivo2.txt\", \"r\");\n",
    "    arquivo = split(read(arquivo, String), keepempty = true)\n",
    "\n",
    "    i, j = 1, 1\n",
    "    count = 0\n",
    "    dimensao = 2\n",
    "    \n",
    "    aux_no = []\n",
    "    push!(aux_no,[])\n",
    "    \n",
    "    ponto = (5.0, 7.0)\n",
    "    pontoD = zeros(dimensao)\n",
    "    l = 1\n",
    "    \n",
    "    for linha in arquivo #matriz de 4 colunas: ponto, classe, x , y\n",
    "        count += 1\n",
    "        \n",
    "        if linha == \"\"\n",
    "            continue\n",
    "        elseif j % 3 != 0\n",
    "            linha = parse(Int64, linha)\n",
    "            push!(aux_no[i], linha)\n",
    "        elseif l < dimensao\n",
    "            linha = parse(Float64, linha)\n",
    "            pontoD[l] = linha\n",
    "            l += 1\n",
    "            continue\n",
    "        else            \n",
    "            linha = parse(Float64, linha)\n",
    "            pontoD[l] = linha\n",
    "            \n",
    "            push!(aux_no[i], pontoD)\n",
    "            aux_distancia = distancia(ponto, pontoD)\n",
    "            push!(aux_no[i], aux_distancia)\n",
    "            \n",
    "            if count < length(arquivo)\n",
    "                push!(aux_no,[]) # resolver esse problema depois\n",
    "            end\n",
    "            l = 1\n",
    "            i += 1\n",
    "        end\n",
    "        \n",
    "        j += 1 \n",
    "    end\n",
    "    \n",
    "    println(aux_no)\n",
    "    \n",
    "    return aux_no\n",
    "end\n",
    "\n",
    "function distancia(ponto, linha_tupla)\n",
    "    return sqrt(sum([(ponto[k] - linha_tupla[k])^2 for k in 1:length(ponto)])) # cria uma array grande que compromete a performace\n",
    "    #ou\n",
    "    # return [(ponto[k] - linha_tupla[k])^2 for k in 1:length(ponto)] |> sum |> sqrt\n",
    "end\n",
    "\n",
    "function distancia_sort(aux_no,k)\n",
    "    println(aux_no)\n",
    "    qtd_classe = 2\n",
    "    distancia_classe = []\n",
    "    \n",
    "    for i in 1:length(aux_no)\n",
    "        push!(distancia_classe, aux_no[i][4] => aux_no[i][2])\n",
    "    end\n",
    "\n",
    "    sort!(distancia_classe)\n",
    "    \n",
    "    println(\"\\n\", distancia_classe, \"\\n\")\n",
    "    \n",
    "    quantidade = zeros(Int64, qtd_classe) # fazer para gerar o numero de classe automaticamente\n",
    "    \n",
    "    for i in 1:k\n",
    "        classe = distancia_classe[i][2]\n",
    "        quantidade[classe] += 1\n",
    "    end\n",
    "    \n",
    "    maximo_qtd, maximo_index = findmax(quantidade)\n",
    "    \n",
    "    return maximo_index\n",
    "    #compara antes de dar entrada na matriz\n",
    "end\n",
    "\n",
    "# Modificações: recebe a dimensão -> usar para estender o quanto a tupla vai armazenar\n",
    "# guardar por enquanto\n",
    "\n",
    "function main()\n",
    "    k = 5\n",
    "    aux_no = abrir_arquivo(k)\n",
    "    dist = distancia_sort(aux_no, k)\n",
    "    return println(\"Classe: $dist\")\n",
    "end\n",
    "\n",
    "@time main()"
   ]
  },
  {
   "cell_type": "code",
   "execution_count": null,
   "metadata": {},
   "outputs": [],
   "source": []
  },
  {
   "cell_type": "code",
   "execution_count": 52,
   "metadata": {},
   "outputs": [
    {
     "name": "stdout",
     "output_type": "stream",
     "text": [
      "Classe: 1\n",
      "  0.000446 seconds (327 allocations: 15.344 KiB)\n"
     ]
    }
   ],
   "source": [
    "function abrir_arquivo(k::UInt64,dimensao::UInt64,ponto::Tuple{Float64,Float64})::Array{Array,1}\n",
    "    arquivo = open(\"arquivo2.txt\", \"r\");\n",
    "    arquivo = split(read(arquivo, String), keepempty = true)\n",
    "\n",
    "    i::UInt64, j::UInt64, count::UInt64, l::UInt64 = 1, 1, 0, 1\n",
    "    pontoD::Array{Float64,1} = zeros(dimensao)\n",
    "\n",
    "    aux_no = Array[]\n",
    "    push!(aux_no, [])\n",
    "\n",
    "    for linha in arquivo\n",
    "        count += 1\n",
    "        \n",
    "        if linha == \"\"\n",
    "            continue\n",
    "        elseif j % 3 != 0\n",
    "            linha = parse(Int64, linha)\n",
    "            push!(aux_no[i], linha)\n",
    "        elseif l < dimensao\n",
    "            linha = parse(Float64, linha)\n",
    "            pontoD[l] = linha\n",
    "            l += 1\n",
    "            continue\n",
    "        else          \n",
    "            linha = parse(Float64, linha)\n",
    "            pontoD[l] = linha\n",
    "            push!(aux_no[i], pontoD)\n",
    "            \n",
    "            aux_distancia = distancia(ponto, pontoD)\n",
    "            push!(aux_no[i], aux_distancia)\n",
    "            \n",
    "            if count < length(arquivo)\n",
    "                push!(aux_no,[])\n",
    "            end\n",
    "            \n",
    "            l = 1\n",
    "            i += 1\n",
    "        end\n",
    "        \n",
    "        j += 1 \n",
    "    end\n",
    "    \n",
    "    #println(aux_no)\n",
    "    \n",
    "    return aux_no\n",
    "end\n",
    "\n",
    "distancia(ponto, linha_tupla)::Float64 = [(ponto[i] - linha_tupla[i])^2 for i in 1:length(ponto)] |> sum |> sqrt\n",
    "\n",
    "function distancia_sort(aux_no::Array{Array,1},k::UInt64,qtd_classe::UInt64)\n",
    "    distancia_classe = []\n",
    "    \n",
    "    for i in 1:length(aux_no)\n",
    "        push!(distancia_classe, aux_no[i][4] => aux_no[i][2])\n",
    "    end\n",
    "\n",
    "    sort!(distancia_classe)\n",
    "    \n",
    "    #println(\"\\n\", distancia_classe, \"\\n\")\n",
    "    \n",
    "    quantidade = zeros(Int64, qtd_classe) # fazer para gerar o numero de classe automaticamente\n",
    "    \n",
    "    for i in 1:k\n",
    "        classe = distancia_classe[i][2]\n",
    "        quantidade[classe] += 1\n",
    "    end\n",
    "    \n",
    "    maximo_qtd, maximo_index = findmax(quantidade)\n",
    "    \n",
    "    return maximo_index\n",
    "    #compara antes de dar entrada na matriz\n",
    "end\n",
    "\n",
    "function main()::Nothing\n",
    "    qtd_classe::UInt64 = 2\n",
    "    k::UInt64 = 5 # tamanho\n",
    "    dimensao::UInt64 = 2 \n",
    "    ponto::Tuple{Float64,Float64} = (5.0, 7.0)\n",
    "    \n",
    "    aux_no = abrir_arquivo(k,dimensao,ponto)\n",
    "    dist = distancia_sort(aux_no, k, qtd_classe)\n",
    "    \n",
    "    println(\"Classe: $dist\")\n",
    "    \n",
    "    return nothing\n",
    "end\n",
    "\n",
    "@time main()"
   ]
  },
  {
   "cell_type": "code",
   "execution_count": null,
   "metadata": {},
   "outputs": [],
   "source": []
  },
  {
   "cell_type": "code",
   "execution_count": null,
   "metadata": {},
   "outputs": [],
   "source": []
  }
 ],
 "metadata": {
  "kernelspec": {
   "display_name": "Julia 1.4.2",
   "language": "julia",
   "name": "julia-1.4"
  },
  "language_info": {
   "file_extension": ".jl",
   "mimetype": "application/julia",
   "name": "julia",
   "version": "1.4.2"
  }
 },
 "nbformat": 4,
 "nbformat_minor": 4
}
