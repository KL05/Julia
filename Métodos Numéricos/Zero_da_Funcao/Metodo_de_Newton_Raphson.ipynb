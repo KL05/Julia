{
 "cells": [
  {
   "cell_type": "markdown",
   "metadata": {},
   "source": [
    "# Método de Newton-Raphson\n",
    "\n",
    "Seja $f:\\mathbb{R} \\rightarrow \\mathbb{R}$ uma função contínua.\n",
    "\n",
    "## Algoritmo\n",
    "**Entrada:** ponto de partida $x^{(0)}$, uma distância $h$, tolerância *TOL*, valor próximo de zero $\\varepsilon$ e número máximo de iterações *Nmax*.\n",
    "### Passo 1:\n",
    "Se $|f(x^{(0)})| < \\varepsilon$, então $x^{(0)}$ é o zero da função $f$ e o programa é finalizado. Caso contrário, faça $k = 0$ e passe para o próximo passo.\n",
    "### Passo 2:\n",
    "Encontre a derivada de $f$ no ponto $x^{(k)}$ usando um dos métodos abaixo:\n",
    "#### Diferença Finita Progressiva:\n",
    "$$f'(x^{(k)}) \\approx \\frac{f(x^{(k)} + h) - f(x^{(k)})}{h}$$\n",
    "#### Diferença Finita Regressiva:\n",
    "$$f'(x^{(k)}) \\approx \\frac{f(x^{(k)}) - f(x^{(k)} - h)}{h}$$\n",
    "#### Diferença Finita Central:\n",
    "$$f'(x^{(k)}) \\approx \\frac{f(x^{(k)} + h) - f(x^{(k)} - h)}{2h}$$\n",
    "### Passo 3:\n",
    "Se a derivada de $f$ no ponto $x^{(k)}$ for diferente de zero faça\n",
    "$$x^{(k+1)} = x^{(k)} - \\frac{f(x^{(k)})}{f'(x^{(k)})}.$$\n",
    "### Passo 4:\n",
    "Enquanto a condição de parada não for atingida, faça $k = k + 1$ e volte para o Passo 2.\n",
    "\n",
    "### Condição de parada:\n",
    "O programa será finalizado quando:\n",
    "1. for obtida a aproximação desejada, isto é.:\n",
    "    - quando $|f(x^{(k+1)})| < \\varepsilon$, então $x^{(k+1)}$ é o zero da função $f$; ou\n",
    "    - quando $|x^{(k+1)}-x^{(k)}| <$ *TOL*, então $x^{(k+1)}$ é o zero da função $f$.\n",
    "1. o número máximo de iterações for atingido, ou seja, quando $k =$ *Nmax*. Isso significa que o zero da função $f$ não foi encontrado."
   ]
  },
  {
   "cell_type": "markdown",
   "metadata": {},
   "source": [
    "# Implementação"
   ]
  },
  {
   "cell_type": "code",
   "execution_count": 3,
   "metadata": {},
   "outputs": [
    {
     "name": "stdout",
     "output_type": "stream",
     "text": [
      "Digite o ponto de partida: \n",
      "stdin> 1\n",
      "Digite o tamanho de h: \n",
      "stdin> 0.01\n",
      "Digite a tolerância: \n",
      "stdin> 0.01\n",
      "Digite o número máximo de iterações:\n",
      "stdin> 100\n",
      "Digite o valor próximo de zero: \n",
      "stdin> 0.001\n",
      " Zero da função f: x = 1.4142156862745099.\n",
      " Número de iterações: 3.\n"
     ]
    }
   ],
   "source": [
    "# Funções de entrada\n",
    "f(x::Float64) = x^2 - 2\n",
    "\n",
    "function inputInt(msg::String)\n",
    "    println(msg)\n",
    "    parse(Int64, readline())\n",
    "end\n",
    "\n",
    "function inputFloat(msg::String)\n",
    "    println(msg)\n",
    "    parse(Float64, readline())\n",
    "end\n",
    "\n",
    "\n",
    "# Derivada\n",
    "progressiva(x::Float64,h::Float64,fx::Float64) = (f(x+h) - fx)/h\n",
    "regressiva(x::Float64,h::Float64,fx::Float64)  = (fx - f(x-h))/h\n",
    "central(x::Float64,h::Float64)                 = (f(x+h) - f(x-h))/(2*h)\n",
    "\n",
    "\n",
    "# Método de Newton-Raphson\n",
    "function newton(x0::Float64,h::Float64,TOL::Float64,Nmax::Int64,ε::Float64)\n",
    "    fx = f(x0)\n",
    "\n",
    "    for k = 1:Nmax # número de iterações\n",
    "            if abs(fx) < ε\n",
    "                return println(\" Zero da função f: x = $x\")\n",
    "            end\n",
    "\n",
    "            derivada = central(x0,h)\n",
    "            if derivada == 0\n",
    "                error(\"Divisão por 0 na $k iteracao!\")\n",
    "            end\n",
    "            \n",
    "            x1 = x0 - fx/derivada\n",
    "            \n",
    "            if abs(x1 - x0) < TOL\n",
    "                return println(\" Zero da função f: x = $x1.\\n Número de iterações: $k.\")\n",
    "            end\n",
    "            \n",
    "            x0 = x1\n",
    "            fx = f(x0)\n",
    "    end\n",
    "    error(\"Atingiu o número máximo de iterações!\")\n",
    "end\n",
    "\n",
    "\n",
    "function main()\n",
    "    # Entrada\n",
    "    x0   = inputFloat(\"Digite o ponto de partida: \")\n",
    "    h    = inputFloat(\"Digite o tamanho de h: \")\n",
    "    TOL  = inputFloat(\"Digite a tolerância: \")\n",
    "    Nmax = inputInt(\"Digite o número máximo de iterações:\") \n",
    "    ε    = inputFloat(\"Digite o valor próximo de zero: \")\n",
    "\n",
    "    # Método de Newton-Raphson\n",
    "    newton(x0,h,TOL,Nmax,ε)\n",
    "end\n",
    "\n",
    "\n",
    "main()"
   ]
  },
  {
   "cell_type": "code",
   "execution_count": null,
   "metadata": {},
   "outputs": [],
   "source": []
  }
 ],
 "metadata": {
  "kernelspec": {
   "display_name": "Julia 1.4.2",
   "language": "julia",
   "name": "julia-1.4"
  },
  "language_info": {
   "file_extension": ".jl",
   "mimetype": "application/julia",
   "name": "julia",
   "version": "1.4.2"
  }
 },
 "nbformat": 4,
 "nbformat_minor": 4
}
