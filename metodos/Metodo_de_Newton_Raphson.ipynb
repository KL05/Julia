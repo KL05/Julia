{
 "cells": [
  {
   "cell_type": "markdown",
   "metadata": {},
   "source": [
    "# Método de Newton-Raphson\n",
    "\n",
    "Seja $f:\\mathbb{R} \\rightarrow \\mathbb{R}$ uma função contínua.\n",
    "\n",
    "## Algoritmo\n",
    "### Passo 1:\n",
    "Defina o ponto de partida $x^{(0)}$, uma distância $h$, o número máximo de iterações e a tolerância.\n",
    "### Passo 2:\n",
    "Se $f(x^{(0)}) = 0$, então $x^{(0)}$ é o zero da função $f$ e o programa é finalizado. Caso contrário, faça $k = 0$ e passe para o próximo passo.\n",
    "### Passo 3:\n",
    "Encontre a derivada de $f$ no ponto $x^{(k)}$ usando um dos métodos abaixo:\n",
    "#### Diferença Finita Progressiva:\n",
    "$$f'(x^{(k)}) \\approx \\frac{f(x^{(k)} + h) - f(x^{(k)})}{h}$$\n",
    "#### Diferença Finita Regressiva:\n",
    "$$f'(x^{(k)}) \\approx \\frac{f(x^{(k)}) - f(x^{(k)} - h)}{h}$$\n",
    "#### Diferença Finita Central:\n",
    "$$f'(x^{(k)}) \\approx \\frac{f(x^{(k)} + h) - f(x^{(k)} - h)}{2h}$$\n",
    "### Passo 4:\n",
    "Se a derivada de $f$ no ponto $x^{(k)}$ for diferente de zero faça\n",
    "$$x^{(k+1)} = x^{(k)} - \\frac{f(x^{(k)})}{f'(x^{(k)})}.$$\n",
    "### Passo 5:\n",
    "Enquanto a condição de parada não for atingida, faça $k = k + 1$ e volte para o Passo 3.\n",
    "\n",
    "### Condição de parada:\n",
    "O programa será finalizado:\n",
    "1. quando o número máximo de iterações for atingido ou \n",
    "2. quando for obtido a aproximação desejada, isto é, $|x^{(k+1)}-x^{(k)}| < {\\rm{tolerância}}$. Nesse caso $x^{(k+1)}$ é o zero da função $f$."
   ]
  },
  {
   "cell_type": "markdown",
   "metadata": {},
   "source": [
    "# Implementação"
   ]
  },
  {
   "cell_type": "code",
   "execution_count": 15,
   "metadata": {},
   "outputs": [
    {
     "name": "stdout",
     "output_type": "stream",
     "text": [
      "Digite o ponto de partida: \n",
      "stdin> 1\n",
      "Digite o tamanho de h: \n",
      "stdin> 0.000001\n",
      "Digite a tolerância: \n",
      "stdin> 0.000001\n",
      "Digite o número máximo de iterações:\n",
      "stdin> 1000\n",
      " Zero da função f: x = 1.4142135623730951.\n",
      " Número de iterações: 5.\n"
     ]
    }
   ],
   "source": [
    "function inputInt(msg::String)\n",
    "    println(msg)\n",
    "    parse(UInt64, readline())\n",
    "end\n",
    "\n",
    "function inputFloat(msg::String)\n",
    "    println(msg)\n",
    "    parse(Float64, readline())\n",
    "end\n",
    "\n",
    "function newton(x0::Float64,h::Float64,tolerancia::Float64,maxIteracao::UInt64)\n",
    "    fx = f(x0)\n",
    "    if fx == 0\n",
    "        println(\" Zero da função f: x = $x\")\n",
    "    else\n",
    "        for iteracao = 1:maxIteracao\n",
    "            derivada = central(x0,h)\n",
    "            if derivada == 0\n",
    "                error(\"Divisão por 0 na $iteracao iteracao!\")\n",
    "            end\n",
    "            x1 = x0 - fx/derivada\n",
    "            if abs(x1 - x0) < tolerancia\n",
    "                return println(\" Zero da função f: x = $x1.\\n Número de iterações: $iteracao.\")\n",
    "            end\n",
    "            x0 = x1\n",
    "            fx = f(x0)\n",
    "        end\n",
    "        error(\"Atingiu o número máximo de iterações!\")\n",
    "    end\n",
    "end\n",
    "\n",
    "f(x::Float64) = x^2 - 2\n",
    "\n",
    "progressiva(x::Float64,h::Float64,fx::Float64) = (f(x+h) - fx)/h\n",
    "regressiva(x::Float64,h::Float64,fx::Float64) = (fx - f(x-h))/h\n",
    "central(x::Float64,h::Float64) = (f(x+h) - f(x-h))/(2*h)\n",
    "\n",
    "x0 = inputFloat(\"Digite o ponto de partida: \")\n",
    "h = inputFloat(\"Digite o tamanho de h: \")\n",
    "tolerancia = inputFloat(\"Digite a tolerância: \")\n",
    "maxIteracao = inputInt(\"Digite o número máximo de iterações:\") \n",
    "\n",
    "newton(x0,h,tolerancia,maxIteracao)"
   ]
  }
 ],
 "metadata": {
  "kernelspec": {
   "display_name": "Julia 1.4.0",
   "language": "julia",
   "name": "julia-1.4"
  },
  "language_info": {
   "file_extension": ".jl",
   "mimetype": "application/julia",
   "name": "julia",
   "version": "1.4.0"
  }
 },
 "nbformat": 4,
 "nbformat_minor": 4
}
