{
 "cells": [
  {
   "cell_type": "markdown",
   "metadata": {},
   "source": [
    "# Método da Bisseção\n",
    "Seja $f:[a,b] \\rightarrow \\mathbb{R}$ uma função contínua. Se $f(a) \\cdot f(b) \\leq 0$, então existe um zero da função $f$ no intervalo $[a,b]$.\n",
    "\n",
    "## Algoritmo\n",
    "### Passo 1:\n",
    "Defina o extremo direito e o extremo esquerdo do intervalo, o número máximo de iterações e a tolerância.\n",
    "### Passo 2:\n",
    "Verifique se $f(a)$ (ou $f(b)$) é nulo. Se for, então $a$ (ou $b$) é o zero da função $f$ e o programa é finalizado. Caso contrário, faça $k = 0$ e passe para o próximo passo.\n",
    "### Passo 3:\n",
    "Faça\n",
    "$$x^{(k)} = \\frac{a+b}{2}.$$\n",
    "### Passo 4:\n",
    "Enquanto a condição de parada não for atingida, verifique os casos abaixo:\n",
    "\n",
    "Caso 1: se $f(x^{(k)}) = 0$, então $x^{(k)}$ é o zero da função $f$ e o programa é finalizado; <br>\n",
    "Caso 2: se $f(a) \\cdot f(x^{(k)}) < 0$, então o zero da função $f$ está no intervalo $(a, x^{(k)})$. Portanto, faça $b = x^{(k)}$, $k = k + 1$ e volte para o Passo 3; <br>\n",
    "Caso 3: se $f(x^{(k)}) \\cdot f(b) < 0$, então o zero da função $f$ está no intervalo $(x^{(k)}, b)$. Portanto, faça $a = x^{(k)}$, $k = k + 1$ e volte para o Passo 3.\n",
    "### Condição de parada:\n",
    "O programa será finalizado:\n",
    "1. quando o número máximo de iterações for atingido ou \n",
    "2. quando for obtido a aproximação desejada, isto é, $\\dfrac{|b-a|}{2} <$ tolerância. Nesse caso, $x^{(k)}$ é o zero da função $f$."
   ]
  },
  {
   "cell_type": "markdown",
   "metadata": {},
   "source": [
    "# Implementação"
   ]
  },
  {
   "cell_type": "code",
   "execution_count": 1,
   "metadata": {},
   "outputs": [
    {
     "name": "stdout",
     "output_type": "stream",
     "text": [
      "Digite o extremo esquerdo: \n",
      "stdin> 0\n",
      "Digite o extremo direito: \n",
      "stdin> 5\n",
      "Digite a tolerância: \n",
      "stdin> 0.0000001\n",
      "Digite o número máximo de iterações: \n",
      "stdin> 1000\n",
      " Zero da função f: x = 1.414213627576828. \n",
      " Número de iterações: 26.\n"
     ]
    }
   ],
   "source": [
    "function inputInt(msg::String)\n",
    "    println(msg)\n",
    "    parse(UInt64, readline())\n",
    "end\n",
    "\n",
    "function inputFloat(msg::String)\n",
    "    println(msg)\n",
    "    parse(Float64, readline())\n",
    "end\n",
    "\n",
    "function bissecao(a::Float64,b::Float64,tolerancia::Float64,maxIteracao::UInt64)\n",
    "    fa = f(a)\n",
    "    fb = f(b)\n",
    "    if fa == 0\n",
    "        println(\" Zero da função f: x = $a\")\n",
    "    elseif fb == 0\n",
    "        println(\" Zero da função f: x = $b\")\n",
    "    else\n",
    "        fa*fb < 0 || error(\"Não foi possível determinar o zero da função f no intervalo ($a,$b), pois f($a)*f($b) = $(f(a)*f(b)) > 0.\")\n",
    "        iteracao = 1\n",
    "        local x\n",
    "        while abs(b-a)/2 > tolerancia\n",
    "            x = (a+b)/2\n",
    "            fx = f(x)\n",
    "            if fx == 0\n",
    "                break\n",
    "            elseif fa*fx < 0.0\n",
    "                b = x\n",
    "            else\n",
    "                a = x\n",
    "                fa = fx\n",
    "            end\n",
    "            iteracao != maxIteracao || error(\"Atingiu o número máximo de iterações! \\na = $a, b = $b, f($x) = $fx\")\n",
    "            iteracao += 1\n",
    "        end\n",
    "        println(\" Zero da função f: x = $x. \\n Número de iterações: $iteracao.\")\n",
    "    end\n",
    "end\n",
    "\n",
    "f(x::Float64) = x^2 - 2\n",
    "\n",
    "a = inputFloat(\"Digite o extremo esquerdo: \")\n",
    "b = inputFloat(\"Digite o extremo direito: \")\n",
    "tolerancia = inputFloat(\"Digite a tolerância: \")\n",
    "maxIteracao = inputInt(\"Digite o número máximo de iterações: \")\n",
    "\n",
    "bissecao(a,b,tolerancia,maxIteracao)"
   ]
  }
 ],
 "metadata": {
  "kernelspec": {
   "display_name": "Julia 1.4.2",
   "language": "julia",
   "name": "julia-1.4"
  },
  "language_info": {
   "file_extension": ".jl",
   "mimetype": "application/julia",
   "name": "julia",
   "version": "1.4.2"
  }
 },
 "nbformat": 4,
 "nbformat_minor": 4
}
