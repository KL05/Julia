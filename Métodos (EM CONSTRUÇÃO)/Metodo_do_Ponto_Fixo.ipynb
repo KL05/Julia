{
 "cells": [
  {
   "cell_type": "markdown",
   "metadata": {},
   "source": [
    "# Método do ponto fixo\n",
    "Seja $f: \\mathbb{R} \\rightarrow \\mathbb{R}$ uma função contínua. Escrevendo $f(x) = 0$ como $g(x) = x$, pode-se encontrar o zero da função $f$ encontrando o ponto fixo da função $g$.\n",
    "## Algoritmo\n",
    "### Passo 1:\n",
    "Defina o ponto de partida $x^{(0)}$, o número máximo de iterações e a tolerância.\n",
    "### Passo 2:\n",
    "Se $f(x^{(0)}) = 0$, então $x^{(0)}$ é o zero da função $f$ e o programa é finalizado. Caso contrário, faça $k = 0$ e passe para o próximo passo.\n",
    "### Passo 3:\n",
    "Faça\n",
    "$$x^{(k+1)} = g(x^{(k)})$$\n",
    "### Passo 4:\n",
    "Enquanto a condição de parada não for atingida, faça $k = k + 1$ e volte para o Passo 3.\n",
    "\n",
    "### Condição de Parada:\n",
    "O programa será finalizado:\n",
    "1. quando o número máximo de iterações for atingido ou \n",
    "2. quando for obtido a aproximação desejada, isto é, $|x^{(k+1)}-x^{(k)}| < {\\rm{tolerância}}$. Nesse caso, $x^{(k+1)}$ é o zero da função $f$."
   ]
  },
  {
   "cell_type": "markdown",
   "metadata": {},
   "source": [
    "# Implementação"
   ]
  },
  {
   "cell_type": "code",
   "execution_count": 4,
   "metadata": {},
   "outputs": [
    {
     "name": "stdout",
     "output_type": "stream",
     "text": [
      "Digite o ponto de partida: \n",
      "stdin> 0\n",
      "Digite a tolerância: \n",
      "stdin> 0.000000000000001\n",
      "Digite o número máximo de iterações:\n",
      "stdin> 1000\n",
      " Ponto fixo de g e zero da função f: x = -1.8414056604369604. \n",
      " Número de iterações: 21.\n"
     ]
    }
   ],
   "source": [
    "function inputInt(msg::String)\n",
    "    println(msg)\n",
    "    parse(UInt64, readline())\n",
    "end\n",
    "\n",
    "function inputFloat(msg::String)\n",
    "    println(msg)\n",
    "    parse(Float64, readline())\n",
    "end\n",
    "\n",
    "function pontoFixo(x0::Float64,tolerancia::Float64,maxIteracao::UInt64)\n",
    "    fx = f(x0)\n",
    "    if fx == 0\n",
    "        println(\" Zero da função f: x = $x. \\n Número de iterações: Nenhuma\")\n",
    "    else\n",
    "        for iteracao = 1:maxIteracao\n",
    "            x1 = g(x0)\n",
    "            if abs(x1 - x0) < tolerancia\n",
    "                return println(\" Ponto fixo de g e zero da função f: x = $x1. \\n Número de iterações: $iteracao.\")\n",
    "            end\n",
    "            x0 = x1\n",
    "        end\n",
    "        error(\"Atingiu o número máximo de iterações!\")\n",
    "    end\n",
    "end\n",
    "\n",
    "f(x::Float64) = exp(x) - x - 2\n",
    "g(x::Float64) = exp(x) - 2\n",
    "\n",
    "x0 = inputFloat(\"Digite o ponto de partida: \")\n",
    "tolerancia = inputFloat(\"Digite a tolerância: \")\n",
    "maxIteracao = inputInt(\"Digite o número máximo de iterações:\") \n",
    "\n",
    "pontoFixo(x0,tolerancia,maxIteracao)"
   ]
  }
 ],
 "metadata": {
  "kernelspec": {
   "display_name": "Julia 1.4.0",
   "language": "julia",
   "name": "julia-1.4"
  },
  "language_info": {
   "file_extension": ".jl",
   "mimetype": "application/julia",
   "name": "julia",
   "version": "1.4.0"
  }
 },
 "nbformat": 4,
 "nbformat_minor": 4
}
